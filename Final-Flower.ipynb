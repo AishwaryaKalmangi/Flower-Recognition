{
 "cells": [
  {
   "cell_type": "code",
   "execution_count": 1,
   "id": "098008a3",
   "metadata": {},
   "outputs": [],
   "source": [
    "import numpy as np # linear algebra\n",
    "import pandas as pd # data processing, CSV file I/O (e.g. pd.read_csv)\n",
    "import os\n",
    "import torch\n",
    "import torchvision\n",
    "import tarfile\n",
    "import torchvision\n",
    "from torch.utils.data import random_split\n",
    "from torchvision.datasets import ImageFolder\n",
    "from torchvision import transforms\n",
    "from torchvision.transforms import ToTensor\n",
    "from torch.utils.data.dataloader import DataLoader\n",
    "import torch.nn as nn\n",
    "from torchvision.utils import make_grid\n",
    "import torchvision.models as models\n",
    "import torch.nn.functional as F\n",
    "import matplotlib.pyplot as plt\n",
    "%matplotlib inline"
   ]
  },
  {
   "cell_type": "code",
   "execution_count": 2,
   "id": "5d1f5af6",
   "metadata": {},
   "outputs": [],
   "source": [
    "flower_data = \"../archive/flowers\"\n",
    "transformer = torchvision.transforms.Compose(\n",
    "    [  # Applying Augmentation\n",
    "        torchvision.transforms.Resize((224, 224)),\n",
    "        torchvision.transforms.RandomHorizontalFlip(p=0.5),\n",
    "        torchvision.transforms.RandomVerticalFlip(p=0.5),\n",
    "        torchvision.transforms.RandomRotation(40),\n",
    "        torchvision.transforms.ToTensor(),\n",
    "        torchvision.transforms.Normalize(\n",
    "            mean=[0.4914, 0.4822, 0.4465], std=[0.2023, 0.1994, 0.2010]\n",
    "        ),\n",
    "    ]\n",
    ")\n"
   ]
  },
  {
   "cell_type": "code",
   "execution_count": 3,
   "id": "c637578e",
   "metadata": {},
   "outputs": [],
   "source": [
    "flower_train=DataLoader(\n",
    "    torchvision.datasets.ImageFolder(flower_data,transform=transformer)\n",
    ")"
   ]
  },
  {
   "cell_type": "code",
   "execution_count": 4,
   "id": "24d59c09",
   "metadata": {},
   "outputs": [
    {
     "data": {
      "text/plain": [
       "4317"
      ]
     },
     "execution_count": 4,
     "metadata": {},
     "output_type": "execute_result"
    }
   ],
   "source": [
    "len(flower_train)"
   ]
  },
  {
   "cell_type": "code",
   "execution_count": 5,
   "id": "86fbc2dc",
   "metadata": {},
   "outputs": [],
   "source": [
    "classes = ('daisy', 'dandelion', 'rose', 'sunflower', 'tulip')"
   ]
  },
  {
   "cell_type": "code",
   "execution_count": 6,
   "id": "9772806a",
   "metadata": {},
   "outputs": [],
   "source": [
    "flower_label = {\n",
    "    0: 'daisy',\n",
    "    1: 'dandelion',\n",
    "    2: 'rose',\n",
    "    3: 'sunflower',\n",
    "    4: 'tulip'\n",
    "}"
   ]
  }
 ],
 "metadata": {
  "kernelspec": {
   "display_name": "Python 3 (ipykernel)",
   "language": "python",
   "name": "python3"
  },
  "language_info": {
   "codemirror_mode": {
    "name": "ipython",
    "version": 3
   },
   "file_extension": ".py",
   "mimetype": "text/x-python",
   "name": "python",
   "nbconvert_exporter": "python",
   "pygments_lexer": "ipython3",
   "version": "3.9.7"
  }
 },
 "nbformat": 4,
 "nbformat_minor": 5
}
