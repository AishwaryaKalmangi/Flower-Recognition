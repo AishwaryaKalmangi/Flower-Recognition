{
 "cells": [
  {
   "cell_type": "markdown",
   "id": "a343a354",
   "metadata": {},
   "source": [
    "Import the files we need"
   ]
  },
  {
   "cell_type": "code",
   "execution_count": 1,
   "id": "ebdd6147",
   "metadata": {},
   "outputs": [],
   "source": [
    "import numpy as np # linear algebra\n",
    "import pandas as pd # data processing, CSV file I/O (e.g. pd.read_csv)\n",
    "from pandas import Series, DataFrame\n",
    "import os\n",
    "import torch\n",
    "import torchvision\n",
    "import tarfile\n",
    "import torchvision\n",
    "from torch.utils.data import random_split\n",
    "from torchvision.datasets import ImageFolder\n",
    "from torchvision import transforms\n",
    "from torchvision.transforms import ToTensor\n",
    "from torch.utils.data.dataloader import DataLoader\n",
    "import torch.nn as nn\n",
    "from torchvision.utils import make_grid\n",
    "import torchvision.models as models\n",
    "import torch.nn.functional as F\n",
    "import matplotlib.pyplot as plt\n",
    "import seaborn as sns\n",
    "%matplotlib inline"
   ]
  },
  {
   "cell_type": "markdown",
   "id": "0a76e576",
   "metadata": {},
   "source": [
    "Data Augumentation and Normalization\n",
    "Load the Flowers test Data and Train Data"
   ]
  },
  {
   "cell_type": "code",
   "execution_count": 2,
   "id": "4baa2377",
   "metadata": {},
   "outputs": [],
   "source": [
    "transform = transforms.Compose(\n",
    "    [torchvision.transforms.Resize((224, 224)),\n",
    "        torchvision.transforms.RandomHorizontalFlip(p=0.5),\n",
    "        torchvision.transforms.RandomVerticalFlip(p=0.5),\n",
    "        torchvision.transforms.RandomRotation(40),\n",
    "        torchvision.transforms.ToTensor(),\n",
    "        torchvision.transforms.Normalize(\n",
    "            mean=[0.5, 0.5, 0.5], std=[0.5, 0.5, 0.5]\n",
    "        )])\n",
    "\n",
    "batch_size = 5\n",
    "flower_path_train='flowers/Train'\n",
    "flower_path_test='flowers/Test'\n",
    "trainloader=DataLoader(\n",
    "    torchvision.datasets.ImageFolder(flower_path_train,transform=transform),\n",
    "    batch_size=batch_size, shuffle=True,num_workers=2\n",
    ")\n",
    "\n",
    "testloader=DataLoader(\n",
    "    torchvision.datasets.ImageFolder(flower_path_test,transform=transform),\n",
    "    batch_size=batch_size, shuffle=False,num_workers=2\n",
    ")\n",
    "\n",
    "len(trainloader),len(testloader)\n",
    "classes = ('daisy', 'dandelion', 'rose', 'sunflower', 'tulip')"
   ]
  },
  {
   "cell_type": "markdown",
   "id": "4b8e68aa",
   "metadata": {},
   "source": [
    "We shall count the flowers in Test and Train sets"
   ]
  },
  {
   "cell_type": "code",
   "execution_count": 3,
   "id": "2abc0619",
   "metadata": {},
   "outputs": [
    {
     "data": {
      "text/plain": [
       "({'daisy': 686,\n",
       "  'dandelion': 968,\n",
       "  'rose': 688,\n",
       "  'sunflower': 577,\n",
       "  'tulip': 888},)"
      ]
     },
     "execution_count": 3,
     "metadata": {},
     "output_type": "execute_result"
    }
   ],
   "source": [
    "#we have Five Class in the dataset, Let's see how many flowers in each Class\n",
    "def flower_count(base_path):\n",
    "    \"\"\"\n",
    "    basepath - flower Folder path\n",
    "    return - dict {class_label :count(image)}\n",
    "\n",
    "  \"\"\"\n",
    "    flower_classes = os.listdir(base_path)\n",
    "\n",
    "    class_count = dict()\n",
    "    for class_label in flower_classes:\n",
    "    #Join the Current Flower path and counting length of class label\n",
    "        class_count[class_label] = len(os.listdir(os.path.join(base_path , class_label)))\n",
    "    return class_count \n",
    "\n",
    "flower_class_train_count = flower_count(flower_path_train) \n",
    "flower_class_test_count = flower_count(flower_path_test) \n",
    "flower_class_train_count,"
   ]
  },
  {
   "cell_type": "markdown",
   "id": "af58501e",
   "metadata": {},
   "source": [
    "Plot a bar graph to show Flowers count in each class in Train set"
   ]
  },
  {
   "cell_type": "code",
   "execution_count": 4,
   "id": "ba5c3679",
   "metadata": {},
   "outputs": [
    {
     "data": {
      "text/plain": [
       "Text(0.5, 1.0, 'Train Flower Dataset')"
      ]
     },
     "execution_count": 4,
     "metadata": {},
     "output_type": "execute_result"
    },
    {
     "data": {
      "image/png": "[encoded data removed]",
      "text/plain": [
       "<Figure size 720x360 with 1 Axes>"
      ]
     },
     "metadata": {
      "needs_background": "light"
     },
     "output_type": "display_data"
    }
   ],
   "source": [
    "flower_class = list(flower_class_train_count.keys())\n",
    "values = list(flower_class_train_count.values())\n",
    "fig = plt.figure(figsize = (10, 5))\n",
    "#  Bar plot\n",
    "plt.bar(flower_class, values, color ='lightseagreen',\n",
    "        width = 0.5)\n",
    "plt.xlabel(\"Labels\")\n",
    "plt.ylabel(\"Train Flowers\")\n",
    "plt.title(\"Train Flower Dataset\")"
   ]
  },
  {
   "cell_type": "code",
   "execution_count": 5,
   "id": "9edbae82",
   "metadata": {},
   "outputs": [
    {
     "data": {
      "text/plain": [
       "{'daisy': 78, 'dandelion': 84, 'rose': 96, 'sunflower': 156, 'tulip': 96}"
      ]
     },
     "execution_count": 5,
     "metadata": {},
     "output_type": "execute_result"
    }
   ],
   "source": [
    "flower_class_test_count"
   ]
  },
  {
   "cell_type": "markdown",
   "id": "ee974837",
   "metadata": {},
   "source": [
    "Plot a bar graph to show Flowers count in each class in Train set"
   ]
  },
  {
   "cell_type": "code",
   "execution_count": 6,
   "id": "455ddda6",
   "metadata": {},
   "outputs": [
    {
     "data": {
      "text/plain": [
       "Text(0.5, 1.0, 'Test Flower Dataset')"
      ]
     },
     "execution_count": 6,
     "metadata": {},
     "output_type": "execute_result"
    },
    {
     "data": {
      "image/png": "[encoded data removed]",
      "text/plain": [
       "<Figure size 720x360 with 1 Axes>"
      ]
     },
     "metadata": {
      "needs_background": "light"
     },
     "output_type": "display_data"
    }
   ],
   "source": [
    "flower_class_test = list(flower_class_test_count.keys())\n",
    "values = list(flower_class_test_count.values())\n",
    "fig = plt.figure(figsize = (10, 5))\n",
    "#  Bar plot\n",
    "plt.bar(flower_class_test, values, color ='steelblue',\n",
    "        width = 0.5)\n",
    "plt.xlabel(\"Labels\")\n",
    "plt.ylabel(\"Test Flowers\")\n",
    "plt.title(\"Test Flower Dataset\")"
   ]
  },
  {
   "cell_type": "markdown",
   "id": "69f85478",
   "metadata": {},
   "source": [
    "Showing training images"
   ]
  },
  {
   "cell_type": "code",
   "execution_count": 7,
   "id": "c0cf4508",
   "metadata": {},
   "outputs": [
    {
     "data": {
      "image/png": "[encoded data removed]",
      "text/plain": [
       "<Figure size 432x288 with 1 Axes>"
      ]
     },
     "metadata": {
      "needs_background": "light"
     },
     "output_type": "display_data"
    },
    {
     "name": "stdout",
     "output_type": "stream",
     "text": [
      "dandelion dandelion sunflower daisy rose \n"
     ]
    }
   ],
   "source": [
    "import matplotlib.pyplot as plt\n",
    "import numpy as np\n",
    "\n",
    "# functions to show an image\n",
    "\n",
    "\n",
    "def imshow(img):\n",
    "    img = img / 2 + 0.5     # unnormalize\n",
    "    npimg = img.numpy()\n",
    "    plt.imshow(np.transpose(npimg, (1, 2, 0)))\n",
    "    plt.show()\n",
    "\n",
    "\n",
    "# get some random training images\n",
    "dataiter = iter(trainloader)\n",
    "images, labels = dataiter.next()\n",
    "\n",
    "# show images\n",
    "imshow(torchvision.utils.make_grid(images))\n",
    "# print labels\n",
    "print(' '.join(f'{classes[labels[j]]:5s}' for j in range(batch_size)))\n"
   ]
  },
  {
   "cell_type": "markdown",
   "id": "8b7c0be8",
   "metadata": {},
   "source": [
    "Training the Image Classification using Convolutional Neural Network"
   ]
  },
  {
   "cell_type": "code",
   "execution_count": 8,
   "id": "cf166e0d",
   "metadata": {},
   "outputs": [],
   "source": [
    "import torch.nn as nn\n",
    "import torch.nn.functional as F\n",
    " \n",
    "class Net(nn.Module):\n",
    "    def __init__(self):\n",
    "        super().__init__()\n",
    "        self.network = nn.Sequential(\n",
    "            nn.Conv2d(in_channels=3, out_channels=32, kernel_size=3, stride=1, padding=1),\n",
    "            nn.ReLU(),\n",
    "            nn.Conv2d(32, 64, kernel_size=3, stride=1, padding=1),\n",
    "            nn.ReLU(),\n",
    "            nn.MaxPool2d(2, 2), \n",
    "\n",
    "            nn.Conv2d(64, 128, kernel_size=3, stride=1, padding=1),\n",
    "            nn.ReLU(),\n",
    "            nn.Conv2d(128, 128, kernel_size=3, stride=1, padding=1),\n",
    "            nn.ReLU(),\n",
    "            nn.MaxPool2d(2, 2), \n",
    "\n",
    "            nn.Conv2d(128, 256, kernel_size=3, stride=1, padding=1),\n",
    "            nn.ReLU(),\n",
    "            nn.Conv2d(256, 256, kernel_size=3, stride=1, padding=1),\n",
    "            nn.ReLU(),\n",
    "            nn.MaxPool2d(2, 2), \n",
    "\n",
    "            nn.Flatten(), \n",
    "            nn.Linear(256*28*28, 1024),\n",
    "            nn.ReLU(),\n",
    "            nn.Linear(1024, 512),\n",
    "            nn.ReLU(),\n",
    "            nn.Linear(512, 5))\n",
    "        \n",
    "    def forward(self, xb):\n",
    "        return self.network(xb)\n",
    "    \n",
    "\n",
    "net = Net()"
   ]
  },
  {
   "cell_type": "markdown",
   "id": "230b2442",
   "metadata": {},
   "source": [
    "Define a Loss function and optimizer"
   ]
  },
  {
   "cell_type": "code",
   "execution_count": 9,
   "id": "7719be85",
   "metadata": {},
   "outputs": [],
   "source": [
    "import torch.optim as optim\n",
    "\n",
    "criterion = nn.CrossEntropyLoss()\n",
    "optimizer = optim.SGD(net.parameters(), lr=0.001, momentum=0.9)"
   ]
  },
  {
   "cell_type": "markdown",
   "id": "3ab7789a",
   "metadata": {},
   "source": [
    "Training the Network"
   ]
  },
  {
   "cell_type": "code",
   "execution_count": null,
   "id": "6de482a3",
   "metadata": {},
   "outputs": [],
   "source": [
    "for epoch in range(2):  # loop over the dataset multiple times\n",
    "\n",
    "    running_loss = 0.0\n",
    "    for i, data in enumerate(trainloader, 0):\n",
    "        # get the inputs; data is a list of [inputs, labels]\n",
    "        inputs, labels = data\n",
    "\n",
    "        # zero the parameter gradients\n",
    "        optimizer.zero_grad()\n",
    "\n",
    "        # forward + backward + optimize\n",
    "        outputs = net(inputs)\n",
    "        loss = criterion(outputs, labels)\n",
    "        loss.backward()\n",
    "        optimizer.step()\n",
    "\n",
    "        # print statistics\n",
    "        running_loss += loss.item()\n",
    "        if i % 1000 == 1000:    # print every 2000 mini-batches\n",
    "            print(f'[{epoch + 1}, {i + 1:5d}] loss: {running_loss / 2000:.3f}')\n",
    "            running_loss = 0.0\n",
    "\n",
    "print('Finished Training')"
   ]
  },
  {
   "cell_type": "markdown",
   "id": "ec5f0137",
   "metadata": {},
   "source": [
    "Test the network on the test data"
   ]
  },
  {
   "cell_type": "code",
   "execution_count": null,
   "id": "132ef09d",
   "metadata": {},
   "outputs": [],
   "source": [
    "dataiter = iter(testloader)\n",
    "images, labels = dataiter.next()\n",
    "\n",
    "# print images\n",
    "imshow(torchvision.utils.make_grid(images))\n",
    "print('GroundTruth: ', ' '.join(f'{classes[labels[j]]:5s}' for j in range(4)))"
   ]
  },
  {
   "cell_type": "code",
   "execution_count": null,
   "id": "36515d2a",
   "metadata": {},
   "outputs": [],
   "source": [
    "net = Net()"
   ]
  },
  {
   "cell_type": "code",
   "execution_count": null,
   "id": "8783cdc2",
   "metadata": {},
   "outputs": [],
   "source": [
    "outputs = net(images)"
   ]
  },
  {
   "cell_type": "code",
   "execution_count": null,
   "id": "2fea9632",
   "metadata": {},
   "outputs": [],
   "source": [
    "_, predicted = torch.max(outputs, 1)\n",
    "\n",
    "print('Predicted: ', ' '.join(f'{classes[predicted[j]]:5s}'\n",
    "                              for j in range(4)))"
   ]
  },
  {
   "cell_type": "markdown",
   "id": "2f7b21be",
   "metadata": {},
   "source": [
    "Showing how the network performs on the whole dataset"
   ]
  },
  {
   "cell_type": "code",
   "execution_count": null,
   "id": "a38e668a",
   "metadata": {},
   "outputs": [],
   "source": [
    "correct = 0\n",
    "total = 0\n",
    "# since we're not training, we don't need to calculate the gradients for our outputs\n",
    "with torch.no_grad():\n",
    "    for data in testloader:\n",
    "        images, labels = data\n",
    "        # calculate outputs by running images through the network\n",
    "        outputs = net(images)\n",
    "        # the class with the highest energy is what we choose as prediction\n",
    "        _, predicted = torch.max(outputs.data, 1)\n",
    "        total += labels.size(0)\n",
    "        correct += (predicted == labels).sum().item()\n",
    "\n",
    "print(f'Accuracy of the network on the 10000 test images: {100 * correct // total} %')"
   ]
  },
  {
   "cell_type": "markdown",
   "id": "faf490c8",
   "metadata": {},
   "source": [
    "Showing Accuracy for each class"
   ]
  },
  {
   "cell_type": "code",
   "execution_count": null,
   "id": "2d224adc",
   "metadata": {},
   "outputs": [],
   "source": [
    "# prepare to count predictions for each class\n",
    "correct_pred = {classname: 0 for classname in classes}\n",
    "total_pred = {classname: 0 for classname in classes}\n",
    "\n",
    "# again no gradients needed\n",
    "with torch.no_grad():\n",
    "    for data in testloader:\n",
    "        images, labels = data\n",
    "        outputs = net(images)\n",
    "        _, predictions = torch.max(outputs, 1)\n",
    "        # collect the correct predictions for each class\n",
    "        for label, prediction in zip(labels, predictions):\n",
    "            if label == prediction:\n",
    "                correct_pred[classes[label]] += 1\n",
    "            total_pred[classes[label]] += 1\n",
    "\n",
    "class_accuracy_list = []\n",
    "# print accuracy for each class\n",
    "for classname, correct_count in correct_pred.items():\n",
    "    accuracy = 100 * float(correct_count) / total_pred[classname]\n",
    "    print(f'Accuracy for class: {classname:5s} is {accuracy:.1f} %')\n",
    "    temp = (classname, accuracy)\n",
    "    class_accuracy_list.append(temp)\n",
    "\n",
    "dfObj = pd.DataFrame(class_accuracy_list)\n",
    "dfObj.columns = ['classes', 'accuracy']\n",
    "\n",
    "#Bar plot with accuracy of respective classes\n",
    "plt.figure(figsize=(13,12))\n",
    "sns.set(style=\"whitegrid\")\n",
    "sns.barplot(x=\"classes\", y=\"accuracy\", data = dfObj, palette = \"magma\")\n",
    "plt.xlabel('Classes',fontsize=12)\n",
    "plt.ylabel('Accuracy',fontsize=12)\n",
    "plt.title('Accuracy for each class', fontsize=15)\n",
    "plt.show()"
   ]
  }
 ],
 "metadata": {
  "kernelspec": {
   "display_name": "Python 3 (ipykernel)",
   "language": "python",
   "name": "python3"
  },
  "language_info": {
   "codemirror_mode": {
    "name": "ipython",
    "version": 3
   },
   "file_extension": ".py",
   "mimetype": "text/x-python",
   "name": "python",
   "nbconvert_exporter": "python",
   "pygments_lexer": "ipython3",
   "version": "3.9.7"
  }
 },
 "nbformat": 4,
 "nbformat_minor": 5
}
